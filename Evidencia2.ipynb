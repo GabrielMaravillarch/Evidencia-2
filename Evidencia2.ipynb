{
 "cells": [
  {
   "cell_type": "code",
   "execution_count": 2,
   "metadata": {},
   "outputs": [
    {
     "ename": "ModuleNotFoundError",
     "evalue": "No module named 'numpy'",
     "output_type": "error",
     "traceback": [
      "\u001b[1;31m---------------------------------------------------------------------------\u001b[0m",
      "\u001b[1;31mModuleNotFoundError\u001b[0m                       Traceback (most recent call last)",
      "Cell \u001b[1;32mIn[2], line 1\u001b[0m\n\u001b[1;32m----> 1\u001b[0m \u001b[38;5;28;01mimport\u001b[39;00m \u001b[38;5;21;01mnumpy\u001b[39;00m \u001b[38;5;28;01mas\u001b[39;00m \u001b[38;5;21;01mnp\u001b[39;00m\n\u001b[0;32m      2\u001b[0m \u001b[38;5;28;01mimport\u001b[39;00m \u001b[38;5;21;01mpandas\u001b[39;00m \u001b[38;5;28;01mas\u001b[39;00m \u001b[38;5;21;01mpd\u001b[39;00m\n",
      "\u001b[1;31mModuleNotFoundError\u001b[0m: No module named 'numpy'"
     ]
    }
   ],
   "source": [
    "import numpy as np\n",
    "import pandas as pd"
   ]
  },
  {
   "cell_type": "code",
   "execution_count": null,
   "metadata": {},
   "outputs": [],
   "source": [
    "diccionarion_python={\n",
    "    \"analisis\":10,\n",
    "    \"calificaciones\":20,\n",
    "    \"matematicas\":30,\n",
    "    \"derecho\":40,\n",
    "    \"español\":50,\n",
    "}\n",
    "edades_diccionario = pd.series(diccionarion_python)"
   ]
  },
  {
   "cell_type": "code",
   "execution_count": null,
   "metadata": {},
   "outputs": [],
   "source": [
    "edades_diccionario"
   ]
  },
  {
   "cell_type": "code",
   "execution_count": null,
   "metadata": {},
   "outputs": [],
   "source": [
    "edades_diccionario.values"
   ]
  },
  {
   "cell_type": "code",
   "execution_count": null,
   "metadata": {},
   "outputs": [],
   "source": [
    "edades_diccionario.index"
   ]
  },
  {
   "cell_type": "code",
   "execution_count": null,
   "metadata": {},
   "outputs": [],
   "source": [
    "nuevos_indicies = ['A','B','C','D','E']\n",
    "arrelgo_numpy = np.array([10,20,30,40,50])\n",
    "edades_diccionario = pd.series(arrelgo_numpy, index=nuevos_indicies)\n",
    "edades_diccionario"
   ]
  },
  {
   "cell_type": "code",
   "execution_count": null,
   "metadata": {},
   "outputs": [],
   "source": [
    "edades_diccionario.info()"
   ]
  },
  {
   "cell_type": "code",
   "execution_count": null,
   "metadata": {},
   "outputs": [],
   "source": [
    "lista_python = [\n",
    "        [10,20,30,40],\n",
    "        [50,60,70,80],\n",
    "        [90,100,110,120]\n",
    "]\n",
    "df = pd.dataframe(lista_python)\n",
    "df"
   ]
  },
  {
   "cell_type": "code",
   "execution_count": null,
   "metadata": {},
   "outputs": [],
   "source": [
    "lista_python = [\n",
    "        [10,20,30,40],\n",
    "        [50,60,70,80],\n",
    "        [90,100,110,120]\n",
    "]\n",
    "filas = ['A','B','C']\n",
    "columnas = ['I','II','III','IV']\n",
    "df = pd.DataFrame(lista_python, index=filas, columns=columnas)\n",
    "print(df)"
   ]
  },
  {
   "cell_type": "code",
   "execution_count": null,
   "metadata": {},
   "outputs": [],
   "source": [
    "diccionario_lista={\n",
    "    \"Nombre\": [\"alexa\",\"Rey\", \"Imelda\"],\n",
    "    \"Edad\": [22,32,15],\n",
    "    \"Area\": [\"Ti\", \"Rh\", \"Produccion\"]\n",
    "}\n",
    "df=pd.DataFrame(diccionario_lista)\n",
    "df"
   ]
  }
 ],
 "metadata": {
  "kernelspec": {
   "display_name": "Python 3",
   "language": "python",
   "name": "python3"
  },
  "language_info": {
   "codemirror_mode": {
    "name": "ipython",
    "version": 3
   },
   "file_extension": ".py",
   "mimetype": "text/x-python",
   "name": "python",
   "nbconvert_exporter": "python",
   "pygments_lexer": "ipython3",
   "version": "3.11.9"
  }
 },
 "nbformat": 4,
 "nbformat_minor": 2
}
